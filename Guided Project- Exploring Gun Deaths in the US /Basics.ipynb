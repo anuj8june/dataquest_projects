{
 "cells": [
  {
   "cell_type": "markdown",
   "metadata": {},
   "source": [
    "# US Gun Deaths Guided Project Solutions"
   ]
  },
  {
   "cell_type": "markdown",
   "metadata": {},
   "source": [
    "## Introducing US Gun Deaths Data"
   ]
  },
  {
   "cell_type": "code",
   "execution_count": 5,
   "metadata": {
    "collapsed": false
   },
   "outputs": [
    {
     "name": "stdout",
     "output_type": "stream",
     "text": [
      "[['', 'year', 'month', 'intent', 'police', 'sex', 'age', 'race', 'hispanic', 'place', 'education'], ['1', '2012', '01', 'Suicide', '0', 'M', '34', 'Asian/Pacific Islander', '100', 'Home', '4'], ['2', '2012', '01', 'Suicide', '0', 'F', '21', 'White', '100', 'Street', '3'], ['3', '2012', '01', 'Suicide', '0', 'M', '60', 'White', '100', 'Other specified', '4'], ['4', '2012', '02', 'Suicide', '0', 'M', '64', 'White', '100', 'Home', '4'], ['5', '2012', '02', 'Suicide', '0', 'M', '31', 'White', '100', 'Other specified', '2']]\n"
     ]
    }
   ],
   "source": [
    "import csv\n",
    "file = open(\"guns.csv\",\"r\")\n",
    "data = list(csv.reader(file))\n",
    "print(data[0:6])"
   ]
  },
  {
   "cell_type": "markdown",
   "metadata": {},
   "source": [
    "## Removing Headers From A List Of Lists"
   ]
  },
  {
   "cell_type": "code",
   "execution_count": 6,
   "metadata": {
    "collapsed": false
   },
   "outputs": [
    {
     "name": "stdout",
     "output_type": "stream",
     "text": [
      "['', 'year', 'month', 'intent', 'police', 'sex', 'age', 'race', 'hispanic', 'place', 'education']\n",
      "[['1', '2012', '01', 'Suicide', '0', 'M', '34', 'Asian/Pacific Islander', '100', 'Home', '4'], ['2', '2012', '01', 'Suicide', '0', 'F', '21', 'White', '100', 'Street', '3'], ['3', '2012', '01', 'Suicide', '0', 'M', '60', 'White', '100', 'Other specified', '4'], ['4', '2012', '02', 'Suicide', '0', 'M', '64', 'White', '100', 'Home', '4'], ['5', '2012', '02', 'Suicide', '0', 'M', '31', 'White', '100', 'Other specified', '2']]\n"
     ]
    }
   ],
   "source": [
    "headers = data[0]\n",
    "data = data[1:]\n",
    "print(headers)\n",
    "print(data[0:5])"
   ]
  },
  {
   "cell_type": "markdown",
   "metadata": {},
   "source": [
    "## Counting Gun Deaths By Year"
   ]
  },
  {
   "cell_type": "code",
   "execution_count": 7,
   "metadata": {
    "collapsed": false
   },
   "outputs": [
    {
     "name": "stdout",
     "output_type": "stream",
     "text": [
      "{'2012': 33563, '2014': 33599, '2013': 33636}\n"
     ]
    }
   ],
   "source": [
    "years = [val[1] for val in data]\n",
    "year_counts = {}\n",
    "for val in years:\n",
    "    if val in year_counts:\n",
    "        year_counts[val] = year_counts[val] + 1\n",
    "    else :\n",
    "        year_counts[val] = 1\n",
    "print(year_counts)"
   ]
  },
  {
   "cell_type": "markdown",
   "metadata": {},
   "source": [
    "## Exploring Gun Deaths By Month And Year"
   ]
  },
  {
   "cell_type": "code",
   "execution_count": 8,
   "metadata": {
    "collapsed": false
   },
   "outputs": [
    {
     "name": "stdout",
     "output_type": "stream",
     "text": [
      "{datetime.datetime(2014, 2, 1, 0, 0): 2361, datetime.datetime(2013, 9, 1, 0, 0): 2742, datetime.datetime(2013, 3, 1, 0, 0): 2862, datetime.datetime(2013, 1, 1, 0, 0): 2864, datetime.datetime(2013, 6, 1, 0, 0): 2920, datetime.datetime(2013, 2, 1, 0, 0): 2375, datetime.datetime(2014, 5, 1, 0, 0): 2864, datetime.datetime(2012, 8, 1, 0, 0): 2954, datetime.datetime(2012, 1, 1, 0, 0): 2758, datetime.datetime(2012, 4, 1, 0, 0): 2795, datetime.datetime(2012, 6, 1, 0, 0): 2826, datetime.datetime(2014, 9, 1, 0, 0): 2914, datetime.datetime(2012, 12, 1, 0, 0): 2791, datetime.datetime(2014, 12, 1, 0, 0): 2857, datetime.datetime(2014, 3, 1, 0, 0): 2684, datetime.datetime(2013, 5, 1, 0, 0): 2806, datetime.datetime(2012, 11, 1, 0, 0): 2729, datetime.datetime(2013, 11, 1, 0, 0): 2758, datetime.datetime(2014, 10, 1, 0, 0): 2865, datetime.datetime(2014, 6, 1, 0, 0): 2931, datetime.datetime(2012, 2, 1, 0, 0): 2357, datetime.datetime(2013, 10, 1, 0, 0): 2808, datetime.datetime(2013, 7, 1, 0, 0): 3079, datetime.datetime(2013, 8, 1, 0, 0): 2859, datetime.datetime(2012, 9, 1, 0, 0): 2852, datetime.datetime(2012, 3, 1, 0, 0): 2743, datetime.datetime(2013, 12, 1, 0, 0): 2765, datetime.datetime(2012, 10, 1, 0, 0): 2733, datetime.datetime(2014, 1, 1, 0, 0): 2651, datetime.datetime(2014, 7, 1, 0, 0): 2884, datetime.datetime(2014, 8, 1, 0, 0): 2970, datetime.datetime(2012, 5, 1, 0, 0): 2999, datetime.datetime(2013, 4, 1, 0, 0): 2798, datetime.datetime(2014, 4, 1, 0, 0): 2862, datetime.datetime(2014, 11, 1, 0, 0): 2756, datetime.datetime(2012, 7, 1, 0, 0): 3026}\n"
     ]
    }
   ],
   "source": [
    "import datetime\n",
    "dates = [datetime.datetime(year = int(val[1]),month = int(val[2]), day = 1)for val in data]\n",
    "\n",
    "date_counts = {}\n",
    "for val in dates:\n",
    "    if val in date_counts:\n",
    "        date_counts[val] += 1\n",
    "    else:\n",
    "        date_counts[val] = 1\n",
    "print(date_counts)\n",
    "    \n"
   ]
  },
  {
   "cell_type": "markdown",
   "metadata": {},
   "source": [
    "## Exploring Gun Deaths By Race And Sex"
   ]
  },
  {
   "cell_type": "code",
   "execution_count": 9,
   "metadata": {
    "collapsed": false
   },
   "outputs": [
    {
     "name": "stdout",
     "output_type": "stream",
     "text": [
      "{'F': 14449, 'M': 86349}\n",
      "{'Asian/Pacific Islander': 1326, 'White': 66237, 'Black': 23296, 'Hispanic': 9022, 'Native American/Native Alaskan': 917}\n"
     ]
    }
   ],
   "source": [
    "sex_counts = {}\n",
    "for val in data:\n",
    "    if val[5] in sex_counts:\n",
    "        sex_counts[val[5]] += 1\n",
    "    else:\n",
    "        sex_counts[val[5]] = 1\n",
    "print(sex_counts)\n",
    "race_counts = {}\n",
    "for val in data:\n",
    "    if val[7] in race_counts:\n",
    "        race_counts[val[7]] += 1\n",
    "    else:\n",
    "        race_counts[val[7]] = 1\n",
    "print(race_counts)\n"
   ]
  },
  {
   "cell_type": "markdown",
   "metadata": {},
   "source": [
    "# Reading In A Second Dataset"
   ]
  },
  {
   "cell_type": "code",
   "execution_count": 10,
   "metadata": {
    "collapsed": false
   },
   "outputs": [
    {
     "name": "stdout",
     "output_type": "stream",
     "text": [
      "[['Id', 'Year', 'Id', 'Sex', 'Id', 'Hispanic Origin', 'Id', 'Id2', 'Geography', 'Total', 'Race Alone - White', 'Race Alone - Hispanic', 'Race Alone - Black or African American', 'Race Alone - American Indian and Alaska Native', 'Race Alone - Asian', 'Race Alone - Native Hawaiian and Other Pacific Islander', 'Two or More Races'], ['cen42010', 'April 1, 2010 Census', 'totsex', 'Both Sexes', 'tothisp', 'Total', '0100000US', '', 'United States', '308745538', '197318956', '44618105', '40250635', '3739506', '15159516', '674625', '6984195']]\n"
     ]
    }
   ],
   "source": [
    "import csv\n",
    "f = open(\"census.csv\",\"r\")\n",
    "census = list(csv.reader(f))\n",
    "print(census[0:5])"
   ]
  },
  {
   "cell_type": "code",
   "execution_count": 12,
   "metadata": {
    "collapsed": false
   },
   "outputs": [
    {
     "name": "stdout",
     "output_type": "stream",
     "text": [
      "{'Asian/Pacific Islander': 8.374309664161762, 'White': 33.56849303419181, 'Black': 57.8773477735196, 'Native American/Native Alaskan': 24.521955573811088, 'Hispanic': 20.220491210910907}\n"
     ]
    }
   ],
   "source": [
    "mapping = {\n",
    "    'Asian/Pacific Islander':15834141,\n",
    "    'Black': 40250635,\n",
    "    'Native American/Native Alaskan':3739506,\n",
    "    'Hispanic':44618105,\n",
    "    'White':197318956    \n",
    "}\n",
    "race_per_hundredk = {}\n",
    "for val in race_counts:\n",
    "    if val in race_per_hundredk:\n",
    "        pass\n",
    "    else:\n",
    "        race_per_hundredk[val] = (race_counts[val] / mapping[val]) * 100000\n",
    "        \n",
    "\n",
    "print(race_per_hundredk)"
   ]
  },
  {
   "cell_type": "code",
   "execution_count": null,
   "metadata": {
    "collapsed": true
   },
   "outputs": [],
   "source": [
    "intents = [val[3] for val in data]\n",
    "races = [val[7] for val in data]\n",
    "homicide_race_counts = {}\n",
    "for count,elem in enumerate(races):\n",
    "    i = count\n",
    "    race = value\n",
    "    if intents[i] == Homicide :\n",
    "        if race not in homicide_race_counts:\n",
    "            homicide_race_counts[race] = 1\n",
    "        else:\n",
    "            homicide_race_counts[race] =  homicide_race_counts[race] + 1\n",
    "\n",
    "homicide_race_counts_hundredk = {}\n",
    "\n",
    "for val in race_counts:\n",
    "    if val in homicide_race_counts_hundredk:\n",
    "        pass\n",
    "    else:\n",
    "        homicide_race_counts_hundredk[val] = (homicide_race_counts[val] / mapping[val]) * 100000\n",
    "        \n",
    "\n",
    "print()\n",
    "print(homicide_race_counts_hundredk)\n",
    "    \n",
    "        \n",
    "    \n",
    "\n"
   ]
  }
 ],
 "metadata": {
  "kernelspec": {
   "display_name": "Python 3",
   "language": "python",
   "name": "python3"
  },
  "language_info": {
   "codemirror_mode": {
    "name": "ipython",
    "version": 3
   },
   "file_extension": ".py",
   "mimetype": "text/x-python",
   "name": "python",
   "nbconvert_exporter": "python",
   "pygments_lexer": "ipython3",
   "version": "3.4.3"
  }
 },
 "nbformat": 4,
 "nbformat_minor": 0
}
