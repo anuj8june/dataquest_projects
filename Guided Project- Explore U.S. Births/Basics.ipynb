{
 "cells": [
  {
   "cell_type": "markdown",
   "metadata": {},
   "source": [
    "# Reading the dataset"
   ]
  },
  {
   "cell_type": "code",
   "execution_count": 3,
   "metadata": {
    "collapsed": false
   },
   "outputs": [
    {
     "name": "stdout",
     "output_type": "stream",
     "text": [
      "['year,month,date_of_month,day_of_week,births', '1994,1,1,6,8096', '1994,1,2,7,7772', '1994,1,3,1,10142', '1994,1,4,2,11248', '1994,1,5,3,11053', '1994,1,6,4,11406', '1994,1,7,5,11251', '1994,1,8,6,8653', '1994,1,9,7,7910']\n"
     ]
    }
   ],
   "source": [
    "f = open(\"US_births_1994-2003_CDC_NCHS.csv\",\"r\")\n",
    "file = f.read()\n",
    "new_file = file.split(\"\\n\")\n",
    "\n",
    "    \n",
    "print(new_file[0:10])\n"
   ]
  },
  {
   "cell_type": "markdown",
   "metadata": {},
   "source": [
    "## Converting Data Into A List Of Lists"
   ]
  },
  {
   "cell_type": "code",
   "execution_count": 4,
   "metadata": {
    "collapsed": false
   },
   "outputs": [
    {
     "name": "stdout",
     "output_type": "stream",
     "text": [
      "[[[1994, 1, 1, 6, 8096]], [[1994, 1, 2, 7, 7772]], [[1994, 1, 3, 1, 10142]], [[1994, 1, 4, 2, 11248]], [[1994, 1, 5, 3, 11053]]]\n"
     ]
    }
   ],
   "source": [
    "def read_csv(file_name):\n",
    "    file = open(file_name,\"r\")\n",
    "    new = file.read()\n",
    "    new_file = new.split(\"\\n\")\n",
    "    string_list = new_file[1:len(new_file)]\n",
    "    final_list = []\n",
    "    for val in string_list:\n",
    "        int_fields = []\n",
    "        string_fields = val.split(\",\")\n",
    "        string_fields = [int(i) for i in string_fields]        \n",
    "        int_fields.append(string_fields)\n",
    "        final_list.append(int_fields)\n",
    "    return final_list\n",
    "\n",
    "cdc_list = read_csv(\"US_births_1994-2003_CDC_NCHS.csv\")\n",
    "print(cdc_list[0:5])\n",
    "\n",
    "\n",
    "        \n",
    "        \n",
    "    \n",
    "\n",
    "    "
   ]
  },
  {
   "cell_type": "markdown",
   "metadata": {},
   "source": [
    "## Calculating Number Of Births Each Month"
   ]
  },
  {
   "cell_type": "code",
   "execution_count": 21,
   "metadata": {
    "collapsed": false
   },
   "outputs": [
    {
     "name": "stdout",
     "output_type": "stream",
     "text": [
      "{1: 3232517, 2: 3018140, 3: 3322069, 4: 3185314, 5: 3350907, 6: 3296530, 7: 3498783, 8: 3525858, 9: 3439698, 10: 3378814, 11: 3171647, 12: 3301860}\n"
     ]
    }
   ],
   "source": [
    "def month_births(list):\n",
    "    births_per_month = {}\n",
    "    for val in list:\n",
    "        for value in val:\n",
    "            if value[1] in births_per_month:\n",
    "                births_per_month[value[1]] = births_per_month[value[1]] + value[4]\n",
    "            else:\n",
    "                births_per_month[value[1]] = value[4]\n",
    "    return births_per_month\n",
    "cdc_month_births =  month_births(cdc_list)     \n",
    "print(cdc_month_births)\n",
    "        "
   ]
  },
  {
   "cell_type": "code",
   "execution_count": 24,
   "metadata": {
    "collapsed": false
   },
   "outputs": [
    {
     "name": "stdout",
     "output_type": "stream",
     "text": [
      "{1: 5789166, 2: 6446196, 3: 6322855, 4: 6288429, 5: 6233657, 6: 4562111, 7: 4079723}\n"
     ]
    }
   ],
   "source": [
    "def dow_births(list):\n",
    "    day_of_week = {}\n",
    "    for val in list:\n",
    "        for value in val:\n",
    "            if value[3] in day_of_week:\n",
    "                day_of_week[value[3]] = day_of_week[value[3]] + value[4]\n",
    "            else:\n",
    "                day_of_week[value[3]] = value[4]\n",
    "    return day_of_week\n",
    "cdc_day_births =  dow_births(cdc_list)     \n",
    "print(cdc_day_births)"
   ]
  },
  {
   "cell_type": "code",
   "execution_count": 26,
   "metadata": {
    "collapsed": false
   },
   "outputs": [
    {
     "name": "stdout",
     "output_type": "stream",
     "text": [
      "{2000: 4058814, 2001: 4025933, 2002: 4021726, 2003: 4089950, 1994: 3952767, 1995: 3899589, 1996: 3891494, 1997: 3880894, 1998: 3941553, 1999: 3959417}\n"
     ]
    }
   ],
   "source": [
    "def calc_counts(data,column):\n",
    "    day_of_week = {}\n",
    "    for val in data:\n",
    "        for value in val:\n",
    "            if value[column] in day_of_week:\n",
    "                day_of_week[value[column]] = day_of_week[value[column]] + value[4]\n",
    "            else:\n",
    "                day_of_week[value[column]] = value[4]\n",
    "    return day_of_week\n",
    "cdc_year_births =  calc_counts(cdc_list,0)    \n",
    "print(cdc_year_births)"
   ]
  },
  {
   "cell_type": "code",
   "execution_count": 27,
   "metadata": {
    "collapsed": false
   },
   "outputs": [
    {
     "name": "stdout",
     "output_type": "stream",
     "text": [
      "{1: 3232517, 2: 3018140, 3: 3322069, 4: 3185314, 5: 3350907, 6: 3296530, 7: 3498783, 8: 3525858, 9: 3439698, 10: 3378814, 11: 3171647, 12: 3301860}\n"
     ]
    }
   ],
   "source": [
    "def calc_counts(data,column):\n",
    "    day_of_week = {}\n",
    "    for val in data:\n",
    "        for value in val:\n",
    "            if value[column] in day_of_week:\n",
    "                day_of_week[value[column]] = day_of_week[value[column]] + value[4]\n",
    "            else:\n",
    "                day_of_week[value[column]] = value[4]\n",
    "    return day_of_week\n",
    "cdc_month_births =  calc_counts(cdc_list,1)    \n",
    "print(cdc_month_births)"
   ]
  },
  {
   "cell_type": "code",
   "execution_count": null,
   "metadata": {
    "collapsed": true
   },
   "outputs": [],
   "source": []
  }
 ],
 "metadata": {
  "anaconda-cloud": {},
  "kernelspec": {
   "display_name": "Python 3",
   "language": "python",
   "name": "python3"
  },
  "language_info": {
   "codemirror_mode": {
    "name": "ipython",
    "version": 3
   },
   "file_extension": ".py",
   "mimetype": "text/x-python",
   "name": "python",
   "nbconvert_exporter": "python",
   "pygments_lexer": "ipython3",
   "version": "3.4.3"
  }
 },
 "nbformat": 4,
 "nbformat_minor": 1
}
