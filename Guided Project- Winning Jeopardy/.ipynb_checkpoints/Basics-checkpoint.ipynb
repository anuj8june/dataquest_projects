{
 "cells": [
  {
   "cell_type": "markdown",
   "metadata": {
    "collapsed": true
   },
   "source": [
    "# Loading 'Winning Jeopardy' Dataset into jupyter"
   ]
  },
  {
   "cell_type": "code",
   "execution_count": 41,
   "metadata": {
    "collapsed": false
   },
   "outputs": [
    {
     "name": "stdout",
     "output_type": "stream",
     "text": [
      "Index(['Show Number', ' Air Date', ' Round', ' Category', ' Value',\n",
      "       ' Question', ' Answer'],\n",
      "      dtype='object')\n",
      "n\n",
      "\n",
      "\n",
      "   Show Number    Air Date      Round                         Category  Value  \\\n",
      "0         4680  2004-12-31  Jeopardy!                          HISTORY   $200   \n",
      "1         4680  2004-12-31  Jeopardy!  ESPN's TOP 10 ALL-TIME ATHLETES   $200   \n",
      "2         4680  2004-12-31  Jeopardy!      EVERYBODY TALKS ABOUT IT...   $200   \n",
      "3         4680  2004-12-31  Jeopardy!                 THE COMPANY LINE   $200   \n",
      "4         4680  2004-12-31  Jeopardy!              EPITAPHS & TRIBUTES   $200   \n",
      "\n",
      "                                            Question      Answer  \n",
      "0  For the last 8 years of his life, Galileo was ...  Copernicus  \n",
      "1  No. 2: 1912 Olympian; football star at Carlisl...  Jim Thorpe  \n",
      "2  The city of Yuma in this state has a record av...     Arizona  \n",
      "3  In 1963, live on \"The Art Linkletter Show\", th...  McDonald's  \n",
      "4  Signer of the Dec. of Indep., framer of the Co...  John Adams  \n"
     ]
    }
   ],
   "source": [
    "import pandas as pd\n",
    "jeopardy = pd.read_csv(\"jeopardy.csv\")\n",
    "print(jeopardy.columns)\n",
    "print(\"n\\n\\n\")\n",
    "print(jeopardy.head(5))"
   ]
  },
  {
   "cell_type": "markdown",
   "metadata": {},
   "source": [
    "## Fixing jeopardy  column names"
   ]
  },
  {
   "cell_type": "code",
   "execution_count": 42,
   "metadata": {
    "collapsed": false
   },
   "outputs": [
    {
     "name": "stdout",
     "output_type": "stream",
     "text": [
      "Index(['Show Number', 'Air Date', 'Round', 'Category', 'Value', 'Question',\n",
      "       'Answer'],\n",
      "      dtype='object')\n"
     ]
    }
   ],
   "source": [
    "for col in jeopardy.columns:\n",
    "    if col[0] == \" \":\n",
    "        jeopardy = jeopardy.rename(columns = {col:col[1:]})\n",
    "        \n",
    "print(jeopardy.columns)"
   ]
  },
  {
   "cell_type": "markdown",
   "metadata": {},
   "source": [
    "## Normalizing Questions and Answers (All to lowercase, Remove punctuation)"
   ]
  },
  {
   "cell_type": "code",
   "execution_count": 43,
   "metadata": {
    "collapsed": false
   },
   "outputs": [
    {
     "name": "stdout",
     "output_type": "stream",
     "text": [
      "0    for the last 8 years of his life galileo was u...\n",
      "1    no 2 1912 olympian football star at carlisle i...\n",
      "2    the city of yuma in this state has a record av...\n",
      "3    in 1963 live on the art linkletter show this c...\n",
      "4    signer of the dec of indep framer of the const...\n",
      "Name: clean_question, dtype: object\n",
      "0    copernicus\n",
      "1    jim thorpe\n",
      "2       arizona\n",
      "3     mcdonalds\n",
      "4    john adams\n",
      "Name: clean_answer, dtype: object\n"
     ]
    }
   ],
   "source": [
    "import re\n",
    "\n",
    "def normalize(text):\n",
    "    text = text.lower()\n",
    "    text = re.sub(\"[^A-Za-z0-9\\s]\",\"\",text)\n",
    "    return text\n",
    "    \n",
    "jeopardy[\"clean_question\"] = jeopardy[\"Question\"].apply(normalize)\n",
    "print(jeopardy[\"clean_question\"].head(5))\n",
    "\n",
    "jeopardy[\"clean_answer\"] = jeopardy[\"Answer\"].apply(normalize)\n",
    "print(jeopardy[\"clean_answer\"].head(5))\n",
    "    "
   ]
  },
  {
   "cell_type": "markdown",
   "metadata": {},
   "source": [
    "## Similarly Normalizing values"
   ]
  },
  {
   "cell_type": "code",
   "execution_count": 44,
   "metadata": {
    "collapsed": false
   },
   "outputs": [
    {
     "name": "stdout",
     "output_type": "stream",
     "text": [
      "0    200\n",
      "1    200\n",
      "2    200\n",
      "3    200\n",
      "4    200\n",
      "Name: clean_value, dtype: int64\n"
     ]
    }
   ],
   "source": [
    "\n",
    "def norm_val(text):        \n",
    "    text = re.sub(\"[^A-Za-z0-9\\s]\",\"\",text)\n",
    "    try:\n",
    "        text = int(text)\n",
    "    except Exception:\n",
    "        text = 0\n",
    "    return text\n",
    "        \n",
    "jeopardy[\"clean_value\"] = jeopardy[\"Value\"].apply(norm_val)\n",
    "print(jeopardy[\"clean_value\"].head(5))\n",
    "    "
   ]
  },
  {
   "cell_type": "markdown",
   "metadata": {},
   "source": [
    "## Converting to python Datetime"
   ]
  },
  {
   "cell_type": "code",
   "execution_count": 45,
   "metadata": {
    "collapsed": false
   },
   "outputs": [
    {
     "name": "stdout",
     "output_type": "stream",
     "text": [
      "0   2004-12-31\n",
      "1   2004-12-31\n",
      "2   2004-12-31\n",
      "3   2004-12-31\n",
      "4   2004-12-31\n",
      "Name: Air Date, dtype: datetime64[ns]\n"
     ]
    }
   ],
   "source": [
    "jeopardy[\"Air Date\"] = pd.to_datetime(jeopardy[\"Air Date\"])\n",
    "print(jeopardy[\"Air Date\"].head(5))\n"
   ]
  },
  {
   "cell_type": "markdown",
   "metadata": {},
   "source": [
    "## Analyzing Questions and Answers"
   ]
  },
  {
   "cell_type": "code",
   "execution_count": 46,
   "metadata": {
    "collapsed": false
   },
   "outputs": [
    {
     "name": "stdout",
     "output_type": "stream",
     "text": [
      "0    0.0\n",
      "1    0.0\n",
      "2    0.0\n",
      "3    0.0\n",
      "4    0.0\n",
      "Name: answer_in_question, dtype: float64\n"
     ]
    }
   ],
   "source": [
    "\n",
    "def count_matches(row):\n",
    "    split_answer = row[\"clean_answer\"].split(\" \")\n",
    "    split_question = row[\"clean_question\"].split(\" \")\n",
    "    if \"the\" in split_answer:\n",
    "        split_answer.remove(\"the\")\n",
    "    if len(split_answer) == 0:\n",
    "        return 0\n",
    "    match_count = 0\n",
    "    for item in split_answer:\n",
    "        if item in split_question:\n",
    "            match_count += 1\n",
    "    return match_count / len(split_answer)\n",
    "\n",
    "jeopardy[\"answer_in_question\"] = jeopardy.apply(count_matches, axis=1)\n",
    "print(jeopardy[\"answer_in_question\"].head(5))"
   ]
  },
  {
   "cell_type": "code",
   "execution_count": 47,
   "metadata": {
    "collapsed": false
   },
   "outputs": [
    {
     "data": {
      "text/plain": [
       "0.060493257069335872"
      ]
     },
     "execution_count": 47,
     "metadata": {},
     "output_type": "execute_result"
    }
   ],
   "source": [
    "jeopardy[\"answer_in_question\"].mean()"
   ]
  },
  {
   "cell_type": "markdown",
   "metadata": {},
   "source": [
    "## Analyzing terms used in Questions"
   ]
  },
  {
   "cell_type": "code",
   "execution_count": 48,
   "metadata": {
    "collapsed": false
   },
   "outputs": [
    {
     "data": {
      "text/plain": [
       "0.80278906589148624"
      ]
     },
     "execution_count": 48,
     "metadata": {},
     "output_type": "execute_result"
    }
   ],
   "source": [
    "question_overlap = []\n",
    "terms_used = set()\n",
    "for index,row in jeopardy.iterrows():\n",
    "    split_question = row[\"clean_question\"].split(\" \")\n",
    "    for i in split_question:\n",
    "        if len(i) < 6:\n",
    "            split_question.remove(i)\n",
    "    match_count = 0\n",
    "    for j in split_question:\n",
    "        if j in terms_used:\n",
    "            match_count += 1\n",
    "    for j in split_question:\n",
    "        terms_used.add(j)\n",
    "    if len(split_question) > 0:\n",
    "        match_count = match_count / len(split_question)\n",
    "    question_overlap.append(match_count)\n",
    "    \n",
    "jeopardy[\"question_overlap\"] = question_overlap\n",
    "\n",
    "jeopardy[\"question_overlap\"].mean()\n",
    "            \n",
    "\n",
    "\n"
   ]
  },
  {
   "cell_type": "markdown",
   "metadata": {},
   "source": [
    "## Classifying High Value Questions"
   ]
  },
  {
   "cell_type": "code",
   "execution_count": 49,
   "metadata": {
    "collapsed": false
   },
   "outputs": [
    {
     "name": "stdout",
     "output_type": "stream",
     "text": [
      "0    14265\n",
      "1     5734\n",
      "Name: high_value, dtype: int64\n"
     ]
    }
   ],
   "source": [
    "def valuation(row):\n",
    "    if row[\"clean_value\"] > 800:\n",
    "        return 1\n",
    "    else:\n",
    "        return 0\n",
    "jeopardy[\"high_value\"] = jeopardy.apply(valuation,axis=1)\n",
    "print(jeopardy[\"high_value\"].value_counts())"
   ]
  },
  {
   "cell_type": "code",
   "execution_count": 56,
   "metadata": {
    "collapsed": false
   },
   "outputs": [
    {
     "name": "stdout",
     "output_type": "stream",
     "text": [
      "[(0, 1), (0, 1), (1, 1), (0, 1), (0, 1)]\n",
      "['profiles', 'choirboy', 'diabetics', 'seltzer', 'kaskaskia']\n"
     ]
    }
   ],
   "source": [
    "observed_expected = []\n",
    "def counter(word):\n",
    "    low_count = 0\n",
    "    high_count = 0\n",
    "    for i,row in jeopardy.iterrows():\n",
    "        words = row[\"clean_question\"].split(\" \")\n",
    "        if word in words:\n",
    "            if row[\"high_value\"] == 1:\n",
    "                high_count += 1\n",
    "            else:\n",
    "                low_count += 1\n",
    "    return high_count,low_count\n",
    "\n",
    "comparison_terms = list(terms_used)[1:6]\n",
    "for val in comparison_terms:\n",
    "    observed_expected.append(counter(val))\n",
    "    \n",
    "print(observed_expected)\n",
    "print(comparison_terms[0:])\n",
    "        \n",
    "        "
   ]
  },
  {
   "cell_type": "markdown",
   "metadata": {},
   "source": [
    "## Chi-Squared Test"
   ]
  },
  {
   "cell_type": "code",
   "execution_count": 63,
   "metadata": {
    "collapsed": false
   },
   "outputs": [
    {
     "name": "stdout",
     "output_type": "stream",
     "text": [
      "[Power_divergenceResult(statistic=0.40196284612688399, pvalue=0.52607729857054686), Power_divergenceResult(statistic=0.70098142306344202, pvalue=0.40245411826570177), Power_divergenceResult(statistic=1.2224387408306399, pvalue=0.26888257861514109), Power_divergenceResult(statistic=3.280392569225377, pvalue=0.070112156757071512), Power_divergenceResult(statistic=4.2336604743544815, pvalue=0.039629884067186996)]\n"
     ]
    }
   ],
   "source": [
    "from scipy.stats import chisquare\n",
    "import numpy as np\n",
    "\n",
    "high_value_count = 0\n",
    "low_value_count = 0\n",
    "for i,val in jeopardy.iterrows():\n",
    "    if val[\"high_value\"] == 1:\n",
    "        high_value_count += 1\n",
    "    if val[\"high_value\"] == 0:\n",
    "        low_value_count += 1\n",
    "\n",
    "chi_squared = []\n",
    "total = 0\n",
    "for i in observed_expected:\n",
    "    total += i[0] + i[1]\n",
    "    total_prop = total / jeopardy.shape[0]\n",
    "    exp_high = total_prop * high_value_count\n",
    "    exp_low = total_prop * low_value_count\n",
    "    \n",
    "    observed = np.array([i[0],i[1]])\n",
    "    expected = np.array([exp_high,exp_low])\n",
    "    chi_squared.append(chisquare(observed, expected))\n",
    "    \n",
    "print(chi_squared)\n",
    "\n"
   ]
  }
 ],
 "metadata": {
  "kernelspec": {
   "display_name": "Python 3",
   "language": "python",
   "name": "python3"
  },
  "language_info": {
   "codemirror_mode": {
    "name": "ipython",
    "version": 3
   },
   "file_extension": ".py",
   "mimetype": "text/x-python",
   "name": "python",
   "nbconvert_exporter": "python",
   "pygments_lexer": "ipython3",
   "version": "3.4.3"
  }
 },
 "nbformat": 4,
 "nbformat_minor": 0
}
